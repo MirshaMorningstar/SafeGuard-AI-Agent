{
 "cells": [
  {
   "cell_type": "markdown",
   "id": "6b83c8e0",
   "metadata": {},
   "source": [
    "# USAGE OF API TOOLS FOR AUTOMATED RESPONSES"
   ]
  },
  {
   "cell_type": "markdown",
   "id": "0b57cce3",
   "metadata": {},
   "source": [
    " "
   ]
  },
  {
   "cell_type": "markdown",
   "id": "e3520919",
   "metadata": {},
   "source": [
    "AN AUTOMATED MESSAGE SENDER FUNCTION TO THE HOSPITAL ABOUT THE LOCATION OF THE ACCIDENT"
   ]
  },
  {
   "cell_type": "code",
   "execution_count": 1,
   "id": "aa5178b4",
   "metadata": {},
   "outputs": [],
   "source": [
    "import requests\n",
    "def ai_send_message(phn_num,hsptl_name,lat,lon):\n",
    "    apiSecret=\"fa3f037ca8e04f4d84bea58b447eecd88402090a\"\n",
    "    device_id=\"00000000-0000-0000-ebf6-16b94fcfa539\"\n",
    "    ai_message1='Dear '+ hsptl_name+',An individual has been in an accident and requires urgent medical attention.'\n",
    "    ai_message2='The incident occurred at latitude '+str(lat)+' and longitude '+str(lon)\n",
    "    ai_message3='.Please provide immediate medical assistance to victim upon arrival.'\n",
    "    ai_message4=' Click this link for location of accident:https://maps.app.goo.gl/4VsRLVXWb1JhpRMJ8'\n",
    "    ai_message=ai_message1+ai_message2+ai_message3+ai_message4\n",
    "\n",
    "    message = {\n",
    "        \"secret\":apiSecret,\n",
    "        \"mode\": \"devices\",\n",
    "        \"device\":device_id,\n",
    "        \"sim\":1,\n",
    "        \"priority\":1,\n",
    "        \"phone\":phn_num,\n",
    "        \"message\":ai_message\n",
    "    }\n",
    "    r = requests.post(url = \"https://www.cloud.smschef.com/api/send/sms\", params=message)\n",
    "\n",
    "    result = r.json()\n",
    "    print(result)"
   ]
  },
  {
   "cell_type": "code",
   "execution_count": 11,
   "id": "a7b29e54",
   "metadata": {
    "scrolled": true
   },
   "outputs": [
    {
     "name": "stdout",
     "output_type": "stream",
     "text": [
      "{'status': 200, 'message': 'Message has been queued for sending!', 'data': False}\n"
     ]
    }
   ],
   "source": [
    "ai_send_message('+919786398639','Apollo Hospitals',12.9480, 80.1397)"
   ]
  },
  {
   "cell_type": "markdown",
   "id": "de5b8770",
   "metadata": {},
   "source": [
    "When called the function whose parameters are the hospital's phone number, the name and the latitude and longitude of the accident, the function automatically sends a message to the phone number of the hospital indicating the emergency situation."
   ]
  },
  {
   "cell_type": "markdown",
   "id": "63c15dfe",
   "metadata": {},
   "source": [
    " "
   ]
  },
  {
   "cell_type": "markdown",
   "id": "c03652c7",
   "metadata": {},
   "source": [
    "AN AUTOMATED CALLER TO THE HOSPITAL WHICH STATES ABOUT THE ACCIDENT"
   ]
  },
  {
   "cell_type": "code",
   "execution_count": 5,
   "id": "ec207285",
   "metadata": {},
   "outputs": [],
   "source": [
    "from twilio.rest import Client"
   ]
  },
  {
   "cell_type": "code",
   "execution_count": 6,
   "id": "21699369",
   "metadata": {},
   "outputs": [],
   "source": [
    "from gtts import gTTS\n",
    "\n",
    "def text_to_speech(text, filename):\n",
    "    tts = gTTS(text=text, lang='en')\n",
    "    tts.save(filename)"
   ]
  },
  {
   "cell_type": "code",
   "execution_count": 7,
   "id": "dbb98c5c",
   "metadata": {},
   "outputs": [
    {
     "name": "stdout",
     "output_type": "stream",
     "text": [
      "Text converted to speech and saved as C:/Users/mbsas/OneDrive/Dokumenty/4th semester/Artificial Intelligence/Lab/Project/hello1.mp3\n"
     ]
    }
   ],
   "source": [
    "def text_conversion(hsptl_name,lat,lon):\n",
    "    text1= 'Dear '+ hsptl_name+',An individual has been in an accident and requires urgent medical attention.'\n",
    "    text2='The incident occurred at latitude '+str(lat)+' and longitude '+str(lon)\n",
    "    text3='Please provide immediate medical assistance to victim upon arrival.'\n",
    "    text=text1+text2+text3\n",
    "   \n",
    "    return text\n",
    "text=text_conversion('Apollo',12.80,80.34)\n",
    "filename = \"C:/Users/mbsas/OneDrive/Dokumenty/4th semester/Artificial Intelligence/Lab/Project/hello1.mp3\"\n",
    "text_to_speech(text, filename)\n",
    "print(f\"Text converted to speech and saved as {filename}\")"
   ]
  },
  {
   "cell_type": "markdown",
   "id": "0d511254",
   "metadata": {},
   "source": [
    "This function converts the text which is to be spoken in the automated call into mp3 file and stores in the specific location mentioned"
   ]
  },
  {
   "cell_type": "code",
   "execution_count": 8,
   "id": "af6d3de8",
   "metadata": {},
   "outputs": [],
   "source": [
    "def ai_call(call_number):    \n",
    "    account_sid='AC9da3a14180e5a9227756c87c504a3bcc'\n",
    "    auth_token='2be3ba29a4116064654954411f0ed15d'\n",
    "\n",
    "    client=Client(account_sid,auth_token)\n",
    "    to_number='+918428566699'\n",
    "    from_number='+12512996553'\n",
    "    message_url = \"C:/Users/mbsas/OneDrive/Dokumenty/4th semester/Artificial Intelligence/Lab/Project/hello.mp3\"\n",
    "    call=client.calls.create(\n",
    "        twiml=f'<Response><Dial>{call_number}</Dial><Play>{message_url}</Play></Response>',\n",
    "        to=to_number,\n",
    "        from_=from_number\n",
    "    )\n",
    "    print(call.sid)"
   ]
  },
  {
   "cell_type": "markdown",
   "id": "53484f40",
   "metadata": {},
   "source": [
    "This function when passed the hospital's phone number makes a call to the phone number and the pre recorded audio is played in the call"
   ]
  },
  {
   "cell_type": "code",
   "execution_count": null,
   "id": "9c8628a0",
   "metadata": {},
   "outputs": [],
   "source": [
    "ai_call('+918428566699')"
   ]
  }
 ],
 "metadata": {
  "kernelspec": {
   "display_name": "Python 3 (ipykernel)",
   "language": "python",
   "name": "python3"
  },
  "language_info": {
   "codemirror_mode": {
    "name": "ipython",
    "version": 3
   },
   "file_extension": ".py",
   "mimetype": "text/x-python",
   "name": "python",
   "nbconvert_exporter": "python",
   "pygments_lexer": "ipython3",
   "version": "3.11.7"
  }
 },
 "nbformat": 4,
 "nbformat_minor": 5
}
